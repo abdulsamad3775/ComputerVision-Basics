{
 "cells": [
  {
   "cell_type": "code",
   "execution_count": 1,
   "metadata": {},
   "outputs": [],
   "source": [
    "import numpy as np\n",
    "import matplotlib.pyplot as plt\n",
    "import cv2"
   ]
  },
  {
   "cell_type": "code",
   "execution_count": 2,
   "metadata": {},
   "outputs": [],
   "source": [
    "grayImage = r'albert-einstein_gray.jpg'\n",
    "colourImage = r'tulips.jpg'"
   ]
  },
  {
   "cell_type": "code",
   "execution_count": 3,
   "metadata": {},
   "outputs": [],
   "source": [
    "I_gray = cv2.imread(grayImage,cv2.IMREAD_GRAYSCALE)\n",
    "I_BGR = cv2.imread(colourImage)"
   ]
  },
  {
   "cell_type": "code",
   "execution_count": 4,
   "metadata": {},
   "outputs": [],
   "source": [
    "plt.imshow(I_gray,cmap='gray')"
   ]
  },
  {
   "cell_type": "code",
   "execution_count": 5,
   "metadata": {},
   "outputs": [],
   "source": [
    "plt.imshow(I_BGR[:,:,::-1])"
   ]
  },
  {
   "cell_type": "code",
   "execution_count": 6,
   "metadata": {},
   "outputs": [],
   "source": [
    "I_gray_resized = cv2.resize(src=I_gray,fx=2,fy=2,dsize=None)"
   ]
  },
  {
   "cell_type": "code",
   "execution_count": 7,
   "metadata": {},
   "outputs": [],
   "source": [
    "plt.imshow(I_gray_resized,cmap='gray')\n",
    "# plt.xticks([])\n",
    "# plt.yticks([])"
   ]
  },
  {
   "cell_type": "code",
   "execution_count": 8,
   "metadata": {},
   "outputs": [],
   "source": [
    "I_gray_resized.shape"
   ]
  },
  {
   "cell_type": "code",
   "execution_count": 9,
   "metadata": {},
   "outputs": [],
   "source": [
    "I_gray.shape"
   ]
  },
  {
   "cell_type": "code",
   "execution_count": 10,
   "metadata": {},
   "outputs": [],
   "source": [
    "I_BGR_resized = cv2.resize(src=I_BGR,fx=0.5,fy=2,dsize=None)"
   ]
  },
  {
   "cell_type": "code",
   "execution_count": 11,
   "metadata": {},
   "outputs": [],
   "source": [
    "plt.imshow(I_BGR_resized[:,:,::-1])"
   ]
  },
  {
   "cell_type": "code",
   "execution_count": 12,
   "metadata": {},
   "outputs": [],
   "source": [
    "P = np.array([2,4,6])"
   ]
  },
  {
   "cell_type": "code",
   "execution_count": 13,
   "metadata": {},
   "outputs": [],
   "source": [
    "Sx,Sy,Sz = 3,0.5,2"
   ]
  },
  {
   "cell_type": "code",
   "execution_count": 14,
   "metadata": {},
   "outputs": [],
   "source": [
    "S = np.array([[Sx,0,0],[0,Sy,0],[0,0,Sz]])"
   ]
  },
  {
   "cell_type": "code",
   "execution_count": 15,
   "metadata": {},
   "outputs": [],
   "source": [
    "S"
   ]
  },
  {
   "cell_type": "code",
   "execution_count": 16,
   "metadata": {},
   "outputs": [],
   "source": [
    "P_dash = S.dot(P)"
   ]
  },
  {
   "cell_type": "code",
   "execution_count": 17,
   "metadata": {},
   "outputs": [],
   "source": [
    "P_dash"
   ]
  },
  {
   "cell_type": "code",
   "execution_count": 18,
   "metadata": {},
   "outputs": [],
   "source": [
    "plt.imshow(I_gray,cmap='gray')"
   ]
  },
  {
   "cell_type": "code",
   "execution_count": 19,
   "metadata": {},
   "outputs": [],
   "source": [
    "numRows = I_gray.shape[0]\n",
    "numCols = I_gray.shape[1]"
   ]
  },
  {
   "cell_type": "code",
   "execution_count": 20,
   "metadata": {},
   "outputs": [],
   "source": [
    "print(numRows,numCols)"
   ]
  },
  {
   "cell_type": "code",
   "execution_count": 21,
   "metadata": {},
   "outputs": [],
   "source": [
    "I_gray2 = np.zeros((numRows,numCols),dtype='uint8')"
   ]
  },
  {
   "cell_type": "code",
   "execution_count": 22,
   "metadata": {},
   "outputs": [],
   "source": [
    "plt.imshow(I_gray2,cmap='gray')"
   ]
  },
  {
   "cell_type": "code",
   "execution_count": 23,
   "metadata": {},
   "outputs": [],
   "source": [
    "for i in range(numRows):\n",
    "    for j in range(numCols):\n",
    "        I_gray2[i,j] = I_gray[i,j]"
   ]
  },
  {
   "cell_type": "code",
   "execution_count": 24,
   "metadata": {},
   "outputs": [],
   "source": [
    "plt.imshow(I_gray2,cmap='gray')"
   ]
  },
  {
   "cell_type": "code",
   "execution_count": 25,
   "metadata": {},
   "outputs": [],
   "source": [
    "for i in range(numRows):\n",
    "    for j in range(numCols):\n",
    "        I_gray2[numRows-i-1,j] = I_gray[i,j]"
   ]
  },
  {
   "cell_type": "code",
   "execution_count": 26,
   "metadata": {},
   "outputs": [],
   "source": [
    "plt.imshow(I_gray2,cmap='gray')"
   ]
  },
  {
   "cell_type": "code",
   "execution_count": 27,
   "metadata": {},
   "outputs": [],
   "source": [
    "S = np.array([[2,0],[0,2]])"
   ]
  },
  {
   "cell_type": "code",
   "execution_count": 28,
   "metadata": {},
   "outputs": [],
   "source": [
    "I2 = np.ones((2*numRows,2*numCols),dtype='uint8')*255\n",
    "I2"
   ]
  },
  {
   "cell_type": "code",
   "execution_count": 29,
   "metadata": {},
   "outputs": [],
   "source": [
    "for i in range(numRows):\n",
    "    for j in range(numCols):\n",
    "        P = np.array([i,j])\n",
    "        P_dash = S.dot(P)\n",
    "        new_i , new_j = P_dash[0] , P_dash[1]\n",
    "        I2[new_i,new_j] = I_gray[i,j]"
   ]
  },
  {
   "cell_type": "code",
   "execution_count": 30,
   "metadata": {},
   "outputs": [],
   "source": [
    "plt.imshow(I2,cmap='gray')"
   ]
  },
  {
   "cell_type": "code",
   "execution_count": 31,
   "metadata": {},
   "outputs": [],
   "source": [
    "print(I2.shape)"
   ]
  },
  {
   "cell_type": "code",
   "execution_count": 32,
   "metadata": {},
   "outputs": [],
   "source": [
    "import matplotlib as mpl\n",
    "def displayImageInActualSize(I):\n",
    "    dpi = mpl.rcParams['figure.dpi']\n",
    "    H,W = I.shape\n",
    "    figSize = W/float(dpi) , H/float(dpi)\n",
    "    fig = plt.figure(figsize = figSize)\n",
    "    ax = fig.add_axes([0,0,1,1])\n",
    "    ax.axis('off')\n",
    "    ax.imshow(I,cmap='gray')\n",
    "    plt.show\n",
    "    "
   ]
  },
  {
   "cell_type": "code",
   "execution_count": 33,
   "metadata": {},
   "outputs": [],
   "source": [
    "displayImageInActualSize(I2)"
   ]
  },
  {
   "cell_type": "code",
   "execution_count": 34,
   "metadata": {},
   "outputs": [],
   "source": [
    "S = np.array([[2,0],[0,2]])\n",
    "I2 = np.zeros((2*numRows,2*numCols),dtype='uint8')\n",
    "Tinv = np.linalg.inv(S)\n",
    "for new_i in range(I2.shape[0]):\n",
    "    for new_j in range(I2.shape[1]):\n",
    "        P_dash = np.array([new_i,new_j])\n",
    "        P = Tinv.dot(P_dash)\n",
    "        P = np.int16(np.round(P))\n",
    "        i , j = P[0] , P[1]\n",
    "        if i < 0 or i>=numRows or j<0 or j>=numCols:\n",
    "            pass\n",
    "        else:\n",
    "            I2[new_i,new_j] = I_gray[i,j]"
   ]
  },
  {
   "cell_type": "code",
   "execution_count": 35,
   "metadata": {},
   "outputs": [],
   "source": [
    "np.ceil(2.3)"
   ]
  },
  {
   "cell_type": "code",
   "execution_count": 36,
   "metadata": {},
   "outputs": [],
   "source": [
    "np.floor(2.3)"
   ]
  },
  {
   "cell_type": "code",
   "execution_count": 37,
   "metadata": {},
   "outputs": [],
   "source": [
    "np.round(2.1)"
   ]
  },
  {
   "cell_type": "code",
   "execution_count": 38,
   "metadata": {},
   "outputs": [],
   "source": [
    "displayImageInActualSize(I2)"
   ]
  },
  {
   "cell_type": "code",
   "execution_count": 39,
   "metadata": {},
   "outputs": [],
   "source": [
    "Tinv = np.linalg.inv(S)"
   ]
  },
  {
   "cell_type": "code",
   "execution_count": 40,
   "metadata": {},
   "outputs": [],
   "source": [
    "Tinv"
   ]
  },
  {
   "cell_type": "code",
   "execution_count": 41,
   "metadata": {},
   "outputs": [],
   "source": [
    "def f_bilinearInterpolate(r,c,I):\n",
    "    lc = int(c)\n",
    "    rc = lc+1\n",
    "    wr = c - lc\n",
    "    wl = rc - c\n",
    "    tr = int(r)\n",
    "    br = tr+1\n",
    "    wt = br-r\n",
    "    wb = r-tr\n",
    "    if tr >= 0 and br < I.shape[0] and lc >=0 and rc < I.shape[1]:\n",
    "        a = wl*I[tr,lc] + wr*I[tr,rc]\n",
    "        b = wl*I[br,lc] + wr*I[br,rc]\n",
    "        g = wt*a + wb*b\n",
    "        return np.uint8(g)\n",
    "    else:\n",
    "        return 0\n",
    "        \n",
    "        "
   ]
  },
  {
   "cell_type": "code",
   "execution_count": null,
   "metadata": {},
   "outputs": [],
   "source": [
    "S = np.array([[2,0],[0,2]])\n",
    "I2 = np.zeros((2*numRows,2*numCols),dtype='uint8')\n",
    "Tinv = np.linalg.inv(S)\n",
    "for new_i in range(I2.shape[0]):\n",
    "    for new_j in range(I2.shape[1]):\n",
    "        P_dash = np.array([new_i,new_j])\n",
    "        P = Tinv.dot(P_dash)\n",
    "        #P = np.int16(np.round(P))\n",
    "        i , j = P[0] , P[1]\n",
    "        if i < 0 or i>=numRows or j<0 or j>=numCols:\n",
    "            pass\n",
    "        else:\n",
    "            g = f_bilinearInterpolate(i,j,I_gray)\n",
    "            I2[new_i,new_j] = g"
   ]
  },
  {
   "cell_type": "code",
   "execution_count": null,
   "metadata": {},
   "outputs": [],
   "source": [
    "displayImageInActualSize(I2)"
   ]
  },
  {
   "cell_type": "code",
   "execution_count": null,
   "metadata": {},
   "outputs": [],
   "source": [
    "def get_scaling_matrix(scale):\n",
    "    size = len(scale)\n",
    "    matrix = np.zeros((size,size))\n",
    "    for i,_ in enumerate(matrix):\n",
    "        matrix[i][i] = scale[i]\n",
    "    return matrix\n",
    "    \n",
    "def f_scaleImage(scale,I_gray):\n",
    "    numRows = I_gray.shape[0]\n",
    "    numCols = I_gray.shape[1]\n",
    "    S = get_scaling_matrix(scale)\n",
    "    print(S)\n",
    "    I2 = np.zeros((int(scale[0])*numRows,int(scale[1])*numCols),dtype='uint8')\n",
    "    Tinv = np.linalg.inv(S)\n",
    "    for new_i in range(I2.shape[0]):\n",
    "        for new_j in range(I2.shape[1]):\n",
    "            P_dash = np.array([new_i,new_j])\n",
    "            P = Tinv.dot(P_dash)\n",
    "            #P = np.int16(np.round(P))\n",
    "            i , j = P[0] , P[1]\n",
    "            if i < 0 or i>=numRows or j<0 or j>=numCols:\n",
    "                pass\n",
    "            else:\n",
    "                g = f_bilinearInterpolate(i,j,I_gray)\n",
    "                I2[new_i,new_j] = g\n",
    "    return I2"
   ]
  },
  {
   "cell_type": "code",
   "execution_count": null,
   "metadata": {},
   "outputs": [],
   "source": [
    "\n",
    "displayImageInActualSize(f_scaleImage([2,2],I_gray))"
   ]
  },
  {
   "cell_type": "code",
   "execution_count": null,
   "metadata": {},
   "outputs": [],
   "source": [
    "def displayImageInActualSizeColor(I):\n",
    "    dpi = mpl.rcParams['figure.dpi']\n",
    "    H,W = I.shape[0:2]\n",
    "    figSize = W/float(dpi) , H/float(dpi)\n",
    "    fig = plt.figure(figsize = figSize)\n",
    "    ax = fig.add_axes([0,0,1,1])\n",
    "    ax.axis('off')\n",
    "    ax.imshow(I,cmap='gray')\n",
    "    plt.show"
   ]
  },
  {
   "cell_type": "code",
   "execution_count": null,
   "metadata": {},
   "outputs": [],
   "source": [
    "I_clr = I_BGR[:,:,::-1]\n",
    "scale = [2,2]\n",
    "r = f_scaleImage(scale,I_clr[:,:,0])\n",
    "g = f_scaleImage(scale,I_clr[:,:,1])\n",
    "b = f_scaleImage(scale,I_clr[:,:,2])"
   ]
  },
  {
   "cell_type": "code",
   "execution_count": null,
   "metadata": {},
   "outputs": [],
   "source": [
    "displayImageInActualSizeColor(I_clr)"
   ]
  },
  {
   "cell_type": "code",
   "execution_count": null,
   "metadata": {},
   "outputs": [],
   "source": [
    "C = np.zeros((r.shape[0],r.shape[1],3),dtype=np.uint8)\n",
    "C[:,:,0]=r\n",
    "C[:,:,1]=g\n",
    "C[:,:,2]=b\n",
    "displayImageInActualSizeColor(C)"
   ]
  },
  {
   "cell_type": "code",
   "execution_count": null,
   "metadata": {},
   "outputs": [],
   "source": []
  },
  {
   "cell_type": "code",
   "execution_count": null,
   "metadata": {},
   "outputs": [],
   "source": []
  },
  {
   "cell_type": "code",
   "execution_count": null,
   "metadata": {},
   "outputs": [],
   "source": []
  },
  {
   "cell_type": "code",
   "execution_count": null,
   "metadata": {},
   "outputs": [],
   "source": []
  },
  {
   "cell_type": "code",
   "execution_count": null,
   "metadata": {},
   "outputs": [],
   "source": [
    "a = 45\n",
    "ca = np.cos(np.deg2rad(a))\n",
    "sa = np.sin(np.deg2rad(a))\n",
    "R = np.array([[ca,-sa],[sa,ca]])\n",
    "rMax,cMax = I_gray.shape[0],I_gray.shape[1]\n",
    "Cords = np.array([[0,0],[0,cMax-1],[rMax-1,0],[rMax-1,cMax-1]])\n",
    "A_dash = R.dot(Cords.T)\n",
    "mins = A_dash.min(axis=1)\n",
    "maxs = A_dash.max(axis=1)\n",
    "minR = np.int64(np.floor(mins[0]))\n",
    "minC = np.int64(np.floor(mins[1]))\n",
    "maxR = np.int64(np.ceil(maxs[0]))\n",
    "maxC = np.int64(np.ceil(maxs[1]))\n",
    "H,W = maxR-minR+1, maxC-minC+1\n",
    "I2 = np.zeros((H,W),dtype='uint8')"
   ]
  },
  {
   "cell_type": "code",
   "execution_count": null,
   "metadata": {},
   "outputs": [],
   "source": [
    "Tinv = np.linalg.inv(R)\n",
    "for new_i in range(minR,maxR):\n",
    "    for new_j in range(minC,maxC):\n",
    "        P_dash = np.array([new_i,new_j])\n",
    "        P = Tinv.dot(P_dash)\n",
    "        i , j = P[0] , P[1]\n",
    "        if i < 0 or i>=numRows or j<0 or j>=numCols:\n",
    "            pass\n",
    "        else:\n",
    "            g = f_bilinearInterpolate(i,j,I_gray)\n",
    "            I2[new_i-minR,new_j-minC] = g"
   ]
  },
  {
   "cell_type": "code",
   "execution_count": null,
   "metadata": {},
   "outputs": [],
   "source": [
    "displayImageInActualSize(I2)"
   ]
  },
  {
   "cell_type": "code",
   "execution_count": null,
   "metadata": {},
   "outputs": [],
   "source": [
    "plt.imshow(I2,cmap='gray')"
   ]
  },
  {
   "cell_type": "code",
   "execution_count": null,
   "metadata": {},
   "outputs": [],
   "source": [
    "def f_getExtents(T,rMax,cMax):\n",
    "    Cords = np.array([[0,0],[0,cMax-1],[rMax-1,0],[rMax-1,cMax-1]])\n",
    "    A_dash = T.dot(Cords.T)\n",
    "    mins = A_dash.min(axis=1)\n",
    "    maxs = A_dash.max(axis=1)\n",
    "    minR = np.int64(np.floor(mins[0]))\n",
    "    minC = np.int64(np.floor(mins[1]))\n",
    "    maxR = np.int64(np.ceil(maxs[0]))\n",
    "    maxC = np.int64(np.ceil(maxs[1]))\n",
    "    H,W = maxR-minR+1, maxC-minC+1\n",
    "    return minR,minC,maxR,maxC,H,W"
   ]
  },
  {
   "cell_type": "code",
   "execution_count": null,
   "metadata": {},
   "outputs": [],
   "source": [
    "def f_transform(T,I_gray):\n",
    "    rMax,cMax = I_gray.shape[0],I_gray.shape[1]\n",
    "    minR,minC,maxR,maxC,H,W = f_getExtents(T,rMax,cMax)\n",
    "    I2 = np.zeros((H,W),dtype='uint8')\n",
    "    Tinv = np.linalg.inv(T)\n",
    "    for new_i in range(minR,maxR):\n",
    "        for new_j in range(minC,maxC):\n",
    "            P_dash = np.array([new_i,new_j])\n",
    "            P = Tinv.dot(P_dash)\n",
    "            i , j = P[0] , P[1]\n",
    "            if i < 0 or i>=numRows or j<0 or j>=numCols:\n",
    "                pass\n",
    "            else:\n",
    "                g = f_bilinearInterpolate(i,j,I_gray)\n",
    "                I2[new_i-minR,new_j-minC] = g\n",
    "    return I2"
   ]
  },
  {
   "cell_type": "code",
   "execution_count": null,
   "metadata": {},
   "outputs": [],
   "source": [
    "I2 = f_transform(T,I_gray)"
   ]
  },
  {
   "cell_type": "code",
   "execution_count": null,
   "metadata": {},
   "outputs": [],
   "source": [
    "plt.imshow(I2,cmap='gray')"
   ]
  },
  {
   "cell_type": "code",
   "execution_count": null,
   "metadata": {},
   "outputs": [],
   "source": [
    "T = np.array([[-1,0],[0,1]])"
   ]
  },
  {
   "cell_type": "code",
   "execution_count": null,
   "metadata": {},
   "outputs": [],
   "source": [
    "T"
   ]
  },
  {
   "cell_type": "code",
   "execution_count": null,
   "metadata": {},
   "outputs": [],
   "source": [
    "I2 = f_transform(T,I_gray)"
   ]
  },
  {
   "cell_type": "code",
   "execution_count": null,
   "metadata": {},
   "outputs": [],
   "source": [
    "plt.imshow(I2,cmap='gray')"
   ]
  },
  {
   "cell_type": "code",
   "execution_count": null,
   "metadata": {},
   "outputs": [],
   "source": [
    "T = np.array([[1,0],[0,-1]])\n",
    "I2 = f_transform(T,I_gray)\n",
    "plt.imshow(I2,cmap='gray')"
   ]
  },
  {
   "cell_type": "code",
   "execution_count": null,
   "metadata": {},
   "outputs": [],
   "source": [
    "plt.imshow(I_gray,cmap='gray')"
   ]
  },
  {
   "cell_type": "code",
   "execution_count": null,
   "metadata": {},
   "outputs": [],
   "source": [
    "k = 0.2\n",
    "T = np.array([[1,k],[0,1]])\n",
    "I2 = f_transform(T,I_gray)\n",
    "plt.imshow(I2,cmap='gray')"
   ]
  },
  {
   "cell_type": "code",
   "execution_count": null,
   "metadata": {},
   "outputs": [],
   "source": [
    "def f_getExtentsAffine(T,rMax,cMax):\n",
    "    Cords = np.array([[0,0,1],[0,cMax-1,1],[rMax-1,0,1],[rMax-1,cMax-1,1]])\n",
    "    A_dash = T.dot(Cords.T)\n",
    "    mins = A_dash.min(axis=1)\n",
    "    maxs = A_dash.max(axis=1)\n",
    "    minR = np.int64(np.floor(mins[0]))\n",
    "    minC = np.int64(np.floor(mins[1]))\n",
    "    maxR = np.int64(np.ceil(maxs[0]))\n",
    "    maxC = np.int64(np.ceil(maxs[1]))\n",
    "    H,W = maxR-minR+1, maxC-minC+1\n",
    "    return minR,minC,maxR,maxC,H,W"
   ]
  },
  {
   "cell_type": "code",
   "execution_count": null,
   "metadata": {},
   "outputs": [],
   "source": [
    "def f_transformAffine(T,I_gray):\n",
    "    rMax,cMax = I_gray.shape[0],I_gray.shape[1]\n",
    "    minR,minC,maxR,maxC,H,W = f_getExtentsAffine(T,rMax,cMax)\n",
    "    I2 = np.zeros((H,W),dtype='uint8')\n",
    "    Tinv = np.linalg.inv(T)\n",
    "    for new_i in range(minR,maxR):\n",
    "        for new_j in range(minC,maxC):\n",
    "            P_dash = np.array([new_i,new_j,1])\n",
    "            P = Tinv.dot(P_dash)\n",
    "            i , j = P[0] , P[1]\n",
    "            if i < 0 or i>=numRows or j<0 or j>=numCols:\n",
    "                pass\n",
    "            else:\n",
    "                g = f_bilinearInterpolate(i,j,I_gray)\n",
    "                I2[new_i-minR,new_j-minC] = g\n",
    "    return I2"
   ]
  },
  {
   "cell_type": "code",
   "execution_count": null,
   "metadata": {},
   "outputs": [],
   "source": [
    "T = np.array([[2,0,10],[0,0.5,20],[0,0,1]])\n",
    "I2 = f_transformAffine(T,I_gray)\n",
    "plt.imshow(I2,cmap='gray')"
   ]
  },
  {
   "cell_type": "code",
   "execution_count": null,
   "metadata": {},
   "outputs": [],
   "source": [
    "a = 30\n",
    "ca = np.cos(np.deg2rad(a))\n",
    "sa = np.sin(np.deg2rad(a))\n",
    "R = np.array([[ca,-sa,0],[sa,ca,0],[0,0,1]])\n",
    "T = np.array([[1,0,-300],[0,1,-400],[0,0,1]])\n",
    "Sh = np.array([[1,0.5,0],[0,1,0],[0,0,1]])\n",
    "S = np.array([[1.3,0,0],[0,0.7,0],[0,0,1]])\n",
    "A = np.linalg.inv(T).dot(S).dot(R).dot(Sh).dot(T)"
   ]
  },
  {
   "cell_type": "code",
   "execution_count": null,
   "metadata": {},
   "outputs": [],
   "source": [
    "A"
   ]
  },
  {
   "cell_type": "code",
   "execution_count": null,
   "metadata": {},
   "outputs": [],
   "source": [
    "I2 = f_transformAffine(A,I_gray)\n",
    "plt.imshow(I2,cmap='gray')"
   ]
  },
  {
   "cell_type": "code",
   "execution_count": null,
   "metadata": {},
   "outputs": [],
   "source": [
    "a = 30\n",
    "ca = np.cos(np.deg2rad(a))\n",
    "sa = np.sin(np.deg2rad(a))\n",
    "R = np.array([[ca,-sa],[sa,ca]])"
   ]
  },
  {
   "cell_type": "code",
   "execution_count": null,
   "metadata": {},
   "outputs": [],
   "source": [
    "np.linalg.det(R)"
   ]
  },
  {
   "cell_type": "code",
   "execution_count": null,
   "metadata": {},
   "outputs": [],
   "source": [
    "np.linalg.inv(R)"
   ]
  },
  {
   "cell_type": "code",
   "execution_count": null,
   "metadata": {},
   "outputs": [],
   "source": [
    "R.T"
   ]
  },
  {
   "cell_type": "code",
   "execution_count": null,
   "metadata": {},
   "outputs": [],
   "source": [
    "Rf = R[[1,0],:]"
   ]
  },
  {
   "cell_type": "code",
   "execution_count": null,
   "metadata": {},
   "outputs": [],
   "source": [
    "Rf"
   ]
  },
  {
   "cell_type": "code",
   "execution_count": null,
   "metadata": {},
   "outputs": [],
   "source": [
    "np.linalg.det(Rf)"
   ]
  },
  {
   "cell_type": "code",
   "execution_count": null,
   "metadata": {},
   "outputs": [],
   "source": [
    "Rf.T"
   ]
  },
  {
   "cell_type": "code",
   "execution_count": null,
   "metadata": {},
   "outputs": [],
   "source": [
    "np.linalg.inv(Rf)"
   ]
  },
  {
   "cell_type": "code",
   "execution_count": null,
   "metadata": {},
   "outputs": [],
   "source": [
    "A = np.array([[Rf[0,0],Rf[0,1],0],[Rf[1,0],Rf[1,1],0],[0,0,1]])\n",
    "I2 = f_transformAffine(A,I_gray)\n",
    "plt.imshow(I2,cmap='gray')"
   ]
  },
  {
   "cell_type": "code",
   "execution_count": null,
   "metadata": {},
   "outputs": [],
   "source": [
    "def f_getExtentsProjective(T,rMax,cMax):\n",
    "    Cords = np.array([[0,0,1],[0,cMax-1,1],[rMax-1,0,1],[rMax-1,cMax-1,1]])\n",
    "    A_dash = T.dot(Cords.T)\n",
    "    A_dash = A_dash/A_dash[2,:]\n",
    "    mins = A_dash.min(axis=1)\n",
    "    maxs = A_dash.max(axis=1)\n",
    "    minR = np.int64(np.floor(mins[0]))\n",
    "    minC = np.int64(np.floor(mins[1]))\n",
    "    maxR = np.int64(np.ceil(maxs[0]))\n",
    "    maxC = np.int64(np.ceil(maxs[1]))\n",
    "    H,W = maxR-minR+1, maxC-minC+1\n",
    "    return minR,minC,maxR,maxC,H,W"
   ]
  },
  {
   "cell_type": "code",
   "execution_count": null,
   "metadata": {},
   "outputs": [],
   "source": [
    "def f_transformProjective(T,I_gray):\n",
    "    rMax,cMax = I_gray.shape[0],I_gray.shape[1]\n",
    "    minR,minC,maxR,maxC,H,W = f_getExtentsProjective(T,rMax,cMax)\n",
    "    I2 = np.zeros((H,W),dtype='uint8')\n",
    "    Tinv = np.linalg.inv(T)\n",
    "    for new_i in range(minR,maxR):\n",
    "        for new_j in range(minC,maxC):\n",
    "            P_dash = np.array([new_i,new_j,1])\n",
    "            P = Tinv.dot(P_dash)\n",
    "            P = P/P[2]\n",
    "            i , j = P[0] , P[1]\n",
    "            if i < 0 or i>=numRows or j<0 or j>=numCols:\n",
    "                pass\n",
    "            else:\n",
    "                g = f_bilinearInterpolate(i,j,I_gray)\n",
    "                I2[new_i-minR,new_j-minC] = g\n",
    "    return I2"
   ]
  },
  {
   "cell_type": "code",
   "execution_count": null,
   "metadata": {},
   "outputs": [],
   "source": [
    "a = 30\n",
    "ca = np.cos(np.deg2rad(a))\n",
    "sa = np.sin(np.deg2rad(a))\n",
    "R = np.array([[ca,-sa,0],[sa,ca,0],[0,0,1]])\n",
    "T = np.array([[1,0,-300],[0,1,-400],[0,0,1]])\n",
    "Sh = np.array([[1,0.5,0],[0,1,0],[0,0,1]])\n",
    "S = np.array([[1.3,0,0],[0,0.7,0],[0,0,1]])\n",
    "A = np.linalg.inv(T).dot(S).dot(R).dot(Sh).dot(T)\n",
    "H = A\n",
    "H[2,:] = np.array([0.001,0.0001,1])"
   ]
  },
  {
   "cell_type": "code",
   "execution_count": null,
   "metadata": {},
   "outputs": [],
   "source": [
    "H"
   ]
  },
  {
   "cell_type": "code",
   "execution_count": null,
   "metadata": {},
   "outputs": [],
   "source": [
    "I2 = f_transformProjective(H,I_gray)\n",
    "plt.imshow(I2,cmap='gray')"
   ]
  },
  {
   "cell_type": "code",
   "execution_count": null,
   "metadata": {},
   "outputs": [],
   "source": []
  },
  {
   "cell_type": "code",
   "execution_count": null,
   "metadata": {},
   "outputs": [],
   "source": []
  },
  {
   "cell_type": "code",
   "execution_count": null,
   "metadata": {},
   "outputs": [],
   "source": []
  },
  {
   "cell_type": "code",
   "execution_count": null,
   "metadata": {},
   "outputs": [],
   "source": []
  },
  {
   "cell_type": "code",
   "execution_count": null,
   "metadata": {},
   "outputs": [],
   "source": []
  },
  {
   "cell_type": "code",
   "execution_count": null,
   "metadata": {},
   "outputs": [],
   "source": []
  },
  {
   "cell_type": "code",
   "execution_count": null,
   "metadata": {},
   "outputs": [],
   "source": []
  },
  {
   "cell_type": "code",
   "execution_count": null,
   "metadata": {},
   "outputs": [],
   "source": []
  },
  {
   "cell_type": "code",
   "execution_count": null,
   "metadata": {},
   "outputs": [],
   "source": []
  },
  {
   "cell_type": "code",
   "execution_count": null,
   "metadata": {},
   "outputs": [],
   "source": []
  },
  {
   "cell_type": "code",
   "execution_count": null,
   "metadata": {},
   "outputs": [],
   "source": []
  },
  {
   "cell_type": "code",
   "execution_count": null,
   "metadata": {},
   "outputs": [],
   "source": []
  }
 ],
 "metadata": {
  "kernelspec": {
   "display_name": "Python 3 (ipykernel)",
   "language": "python",
   "name": "python3"
  },
  "language_info": {
   "codemirror_mode": {
    "name": "ipython",
    "version": 3
   },
   "file_extension": ".py",
   "mimetype": "text/x-python",
   "name": "python",
   "nbconvert_exporter": "python",
   "pygments_lexer": "ipython3",
   "version": "3.11.3"
  }
 },
 "nbformat": 4,
 "nbformat_minor": 4
}
